{
 "cells": [
  {
   "cell_type": "code",
   "execution_count": 6,
   "metadata": {},
   "outputs": [],
   "source": [
    "import json\n",
    "import pickle as p\n",
    "import numpy as np\n",
    "import tensorflow as tf\n",
    "import matplotlib.pyplot as plt\n",
    "from tensorflow import keras\n",
    "\n",
    "from tensorflow.keras.datasets import mnist\n",
    "data = {}\n",
    "(data['X_train'], data['Y_train']), (data['X_test'], data['Y_test']) = mnist.load_data()"
   ]
  },
  {
   "cell_type": "code",
   "execution_count": 2,
   "metadata": {},
   "outputs": [
    {
     "name": "stdout",
     "output_type": "stream",
     "text": [
      "MNIST Dataset Shape:\n",
      "X_train: (60000, 28, 28)\n",
      "Y_train: (60000,)\n",
      "X_test:  (10000, 28, 28)\n",
      "Y_test:  (10000,)\n"
     ]
    }
   ],
   "source": [
    "print('MNIST Dataset Shape:')\n",
    "print('X_train: ' + str(data['X_train'].shape))\n",
    "print('Y_train: ' + str(data['Y_train'].shape))\n",
    "print('X_test:  '  + str(data['X_test'].shape))\n",
    "print('Y_test:  '  + str(data['Y_test'].shape))"
   ]
  },
  {
   "cell_type": "code",
   "execution_count": 3,
   "metadata": {},
   "outputs": [
    {
     "data": {
      "image/png": "[encoded data removed]",
      "text/plain": [
       "<Figure size 864x864 with 10 Axes>"
      ]
     },
     "metadata": {
      "needs_background": "light"
     },
     "output_type": "display_data"
    }
   ],
   "source": [
    "def plot_i(data=data, i=None, subplots=[]):\n",
    "    \n",
    "    if not i:\n",
    "        fig = plt.figure(figsize=(12, 12))\n",
    "        for i in range(10):\n",
    "            plottable_image = np.reshape(data['X_train'][subplots[i]], (28, 28))\n",
    "            ax = fig.add_subplot(2, 5, i+1)\n",
    "            ax.imshow(plottable_image, cmap='gray_r')\n",
    "            ax.set_xlabel(data['Y_train'][i])\n",
    "#             print(data['Y_train'][i])\n",
    "    else:\n",
    "        print('Y = {}'.format(Y_train[i]))\n",
    "        plt.figure()\n",
    "        plt.imshow(X_train[i])\n",
    "        plt.grid(False)\n",
    "        plt.show()\n",
    "\n",
    "plot_i(subplots=np.arange(10))"
   ]
  },
  {
   "cell_type": "code",
   "execution_count": 18,
   "metadata": {},
   "outputs": [],
   "source": [
    "# %%writefile mlfuncs.py\n",
    "# import numpy as np\n",
    "# import tensorflow as tf\n",
    "# import matplotlib.pyplot as plt\n",
    "# from tensorflow import keras\n",
    "# import json\n",
    "# import pickle\n",
    "\n",
    "# from tensorflow.keras.datasets import mnist\n",
    "# data = {}\n",
    "# (data['X_train'], data['Y_train']), (data['X_test'], data['Y_test']) = mnist.load_data()\n",
    "\n",
    "def make_model(data=data):\n",
    "    model=None\n",
    "    data['X_train'] = data['X_train']/255.\n",
    "    data['X_test'] = data['X_test']/255.\n",
    "    \n",
    "    data['X_train'] = data['X_train'].reshape((60000, 784, ))\n",
    "    data['X_test'] = data['X_test'].reshape((10000, 784, ))\n",
    "    \n",
    "    model = keras.Sequential([\n",
    "#         keras.layers.Flatten(input_shape=(28, 28)),\n",
    "        \n",
    "        keras.layers.Dense(16, activation='relu', input_shape=(784,)),\n",
    "        keras.layers.Dense(10, activation='softmax')\n",
    "    ])\n",
    "\n",
    "    model.compile(optimizer='adam',\n",
    "                  loss=tf.keras.losses.SparseCategoricalCrossentropy(from_logits=True),\n",
    "                  metrics=['accuracy']\n",
    "                 )\n",
    "    return model\n",
    "\n",
    "def fit_data(data, model):\n",
    "    print(data['X_train'].shape)\n",
    "    model.fit(data['X_train'], data['Y_train'], epochs=3,\n",
    "              validation_data=(data['X_test'], data['Y_test']))\n",
    "    return model\n",
    "\n",
    "def train_model():\n",
    "    data = {}\n",
    "    (data['X_train'], data['Y_train']), (data['X_test'], data['Y_test']) = mnist.load_data()\n",
    "    model = make_model(data=data)\n",
    "    model = fit_data(data, model)\n",
    "    \n",
    "    _, test_acc = model.evaluate(data['X_test'],  data['Y_test'], verbose=2)\n",
    "    print('\\nTest accuracy:', test_acc)\n",
    "    \n",
    "    return model\n",
    "\n",
    "def get_params(model):\n",
    "    weights=[]\n",
    "    for i in range(len(model.layers)):\n",
    "#         weights.append(layer.get_weights()[0].tolist())\n",
    "#         weights.append(layer.get_weights()[1].tolist())\n",
    "        weights.append([model.layers[i].get_weights()[0].tolist(),\n",
    "                        model.layers[i].get_weights()[1].tolist()])\n",
    "    return weights\n",
    "\n",
    "def get_params_json(weights, ret_dict = False):\n",
    "    dat = {}\n",
    "    for i in range(len(weights)):\n",
    "        sdat = {}\n",
    "        sdat['weights'] = weights[i][0]\n",
    "        sdat['biases'] = weights[i][1]\n",
    "#         print(len(weights[i][0]), len(weights[i][0][0]))\n",
    "        dat['layer'+str(i)] = sdat\n",
    "#         print(len(dat['layer'+str(i)]['weights']), len(dat['layer'+str(i)]['weights'][0]))\n",
    "\n",
    "    with open('dat.dict', 'wb') as f:\n",
    "        p.dump(dat, f)\n",
    "        f.close()\n",
    "        print()\n",
    "        \n",
    "    if ret_dict: return dat\n",
    "    \n",
    "\n",
    "    \n",
    "    dat = json.dumps(dat)\n",
    "    \n",
    "    return dat"
   ]
  },
  {
   "cell_type": "code",
   "execution_count": 22,
   "metadata": {},
   "outputs": [],
   "source": [
    "# Call this function to reset weights\n",
    "def reset_weights():\n",
    "    params_json = get_params_json(get_params(train_model()))\n",
    "    return params_json\n",
    "\n",
    "# Call this function to get dat from the pickle of {dat}\n",
    "def get_weights():\n",
    "    try:\n",
    "        with open('dat.dict', 'rb') as f:\n",
    "            dat = p.load(f)\n",
    "            f.close()\n",
    "            print('get data from pickle')\n",
    "            \n",
    "    except:\n",
    "        dat = reset_weights()\n",
    "        print('restting data')\n",
    "        \n",
    "    return dat"
   ]
  },
  {
   "cell_type": "code",
   "execution_count": 23,
   "metadata": {},
   "outputs": [
    {
     "name": "stdout",
     "output_type": "stream",
     "text": [
      "get data from pickle\n"
     ]
    }
   ],
   "source": [
    "dat = get_weights()"
   ]
  },
  {
   "cell_type": "code",
   "execution_count": null,
   "metadata": {},
   "outputs": [],
   "source": []
  },
  {
   "cell_type": "code",
   "execution_count": null,
   "metadata": {},
   "outputs": [],
   "source": []
  },
  {
   "cell_type": "code",
   "execution_count": null,
   "metadata": {},
   "outputs": [],
   "source": []
  }
 ],
 "metadata": {
  "kernelspec": {
   "display_name": "Python 3",
   "language": "python",
   "name": "python3"
  },
  "language_info": {
   "codemirror_mode": {
    "name": "ipython",
    "version": 3
   },
   "file_extension": ".py",
   "mimetype": "text/x-python",
   "name": "python",
   "nbconvert_exporter": "python",
   "pygments_lexer": "ipython3",
   "version": "3.8.2"
  }
 },
 "nbformat": 4,
 "nbformat_minor": 2
}
